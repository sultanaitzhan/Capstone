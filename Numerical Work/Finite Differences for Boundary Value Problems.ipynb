{
 "cells": [
  {
   "cell_type": "markdown",
   "metadata": {
    "toc": true
   },
   "source": [
    "<h1>Table of Contents<span class=\"tocSkip\"></span></h1>\n",
    "<div class=\"toc\"><ul class=\"toc-item\"><li><span><a href=\"#Solving-$U''(x)-=-f(x),-\\quad-u(a)-=-\\alpha,-u(b)-=-\\beta$-via-Finite-Differences\" data-toc-modified-id=\"Solving-$U''(x)-=-f(x),-\\quad-u(a)-=-\\alpha,-u(b)-=-\\beta$-via-Finite-Differences-1\"><span class=\"toc-item-num\">1&nbsp;&nbsp;</span>Solving $U''(x) = f(x), \\quad u(a) = \\alpha, u(b) = \\beta$ via Finite Differences</a></span></li></ul></div>"
   ]
  },
  {
   "cell_type": "markdown",
   "metadata": {},
   "source": [
    "# Solving $U''(x) = f(x), \\quad u(a) = \\alpha, u(b) = \\beta$ via Finite Differences\n",
    "---\n",
    "> Initial version created September 29, 2017 by Katie Oliveras"
   ]
  },
  {
   "cell_type": "markdown",
   "metadata": {},
   "source": [
    "As we discussed, when trying to solve numerically solve the differential equation, we pick $N$ points between $x = 0$ and $x = \\pi$ that are spaced $\\Delta x$ units apart.  Thus, $x_1 = \\Delta x$, $x_2 = 2\\Delta x$ and so on.  Our goal is to determine $U(x_j)$ denoted as $U(x_j) = U_j$, for $j = 1\\ldots N$. For this example problem, let's consider the following boundary value problem:\n",
    "$$U''(x) = \\sin(x), \\qquad u(0) = 1, \\quad u(\\pi) = 2$$"
   ]
  },
  {
   "cell_type": "markdown",
   "metadata": {},
   "source": [
    "To being, we will import the important libraries as shown in the following code block:"
   ]
  },
  {
   "cell_type": "code",
   "execution_count": 33,
   "metadata": {},
   "outputs": [],
   "source": [
    "from numpy import *   # This allows you to import numerical routines such as matrix multiplication, etc.\n",
    "from pylab import * # More needed libraries\n",
    "%matplotlib inline "
   ]
  },
  {
   "cell_type": "markdown",
   "metadata": {},
   "source": [
    "Since we know the values of $a$, $b$, $\\alpha$, and $\\beta$, as well as the function $f(x)$ let's define them now."
   ]
  },
  {
   "cell_type": "code",
   "execution_count": 78,
   "metadata": {
    "collapsed": true
   },
   "outputs": [],
   "source": [
    "a = 0\n",
    "b = pi\n",
    "alpha = 1\n",
    "beta = 0\n",
    "def f(x):\n",
    "    return sin(x)"
   ]
  },
  {
   "cell_type": "markdown",
   "metadata": {},
   "source": [
    "Now, let's determine how many interior points we want to use, and figure out the appropriate $x$ values given our choice."
   ]
  },
  {
   "cell_type": "code",
   "execution_count": 81,
   "metadata": {},
   "outputs": [],
   "source": [
    "N = 20                        #Determine how many points you want to use.\n",
    "x = linspace(0,pi,N+2)        #Creates an array of equally x values including the boundary values at x = a and x = b."
   ]
  },
  {
   "cell_type": "markdown",
   "metadata": {},
   "source": [
    "Now x is a horizontal vector with entries $$x = \\left[a\\quad x_1 \\quad x_2 \\quad \\ldots \\quad x_N \\quad b\\right]$$  Since we only want the interior values, we just want the second entry through the last entry.  The way this works is by starting at the second entry ('1' since python indexs from zero), and end at the last entry (python truncates the array at one index before the one indicated).\n",
    "\n",
    "_Note: Using '-1' in an array begins counting from the end of an array._"
   ]
  },
  {
   "cell_type": "code",
   "execution_count": 82,
   "metadata": {
    "collapsed": true
   },
   "outputs": [],
   "source": [
    "x = x[1:-1]                   #Take only the interior values.\n",
    "dx = x[1]-x[0]                #Determine the 'dx' by subtracting two adjacent x values"
   ]
  },
  {
   "cell_type": "markdown",
   "metadata": {},
   "source": [
    "Now we need to build the $D^2$ matrix that approximates the second derivative.  As we discussed, this matrix take the following form:\n",
    "\n",
    "$$\n",
    "D^2 = \\frac{1}{\\left(\\Delta x\\right)^2} \\cdot\\begin{bmatrix} -2 & 1 & 0 & 0 & \\ldots\\\\\n",
    "1 & -2 & 1 & 0 & \\ldots \\\\\n",
    "0 & 1 & -2 & 1  & \\ldots \\\\\n",
    "0 & 0& \\ddots & \\ddots & \\ddots\\\\\n",
    "0 & \\ldots & 0& 1 & -2\\end{bmatrix}$$\n",
    "\n",
    "The easiest way to compute this matrix is by adding three different matries together.  We create three matrices, the first that has ones above the diagonal, the second that has `-2` on the diagonal, and the third that has ones below the diagonal.  Summing these three matrices, and then multipliying by $\\frac{1}{(\\Delta x)^2}$ allows us to quickly construct this matrix as shown below:\n",
    "$$\n",
    "D^2 = \\frac{1}{\\left(\\Delta x\\right)^2} \\cdot\\left(\\begin{bmatrix} 0 & 1 & 0 & 0 & \\ldots\\\\\n",
    "0 & 0 & 1 & 0 & \\ldots \\\\\n",
    "0 &0 &0 & 1  & \\ldots \\\\\n",
    "0 & 0& \\ddots & \\ddots & \\ddots\\\\\n",
    "0 & \\ldots & 0& 0 & 0\\end{bmatrix} + \\begin{bmatrix} -2 & 0 & 0 & 0 & \\ldots\\\\\n",
    "0 & -2 & 0 & 0 & \\ldots \\\\\n",
    "0 & 0 & -2 & 0  & \\ldots \\\\\n",
    "0 & 0& \\ddots & \\ddots & \\ddots\\\\\n",
    "0 & \\ldots & 0& 0 & -2\\end{bmatrix} + \\begin{bmatrix} 0 & 0 & 0 & 0 & \\ldots\\\\\n",
    "1 & 0 &0 & 0 & \\ldots \\\\\n",
    "0 & 1 & 0 & 0  & \\ldots \\\\\n",
    "0 & 0& \\ddots & \\ddots & \\ddots\\\\\n",
    "0 & \\ldots & 0& 1 & 0\\end{bmatrix}\\right)$$"
   ]
  },
  {
   "cell_type": "code",
   "execution_count": 87,
   "metadata": {},
   "outputs": [],
   "source": [
    "D2 = 1/dx**2*(diag(ones(N-1),1)+diag(-2*ones(N),0) + diag(ones(N-1),-1))"
   ]
  },
  {
   "cell_type": "markdown",
   "metadata": {},
   "source": [
    "Finally, we need to compute the vector corresponding to $f(x)$ and adjust the first and last entries in order to compensate for the boundary conditions.  Let's use the variable 'g' to represent $f(x)$ and the adjustments.  As discussed, this would take the form\n",
    "$$g = \\begin{bmatrix} f(x_1) - \\frac{\\alpha}{(\\Delta x)^2}\\\\ f(x_2)\\\\f(x_3)\\\\\\vdots\\\\f(x_N)-\\frac{\\beta}{(\\Delta x)^2}\\end{bmatrix}$$\n",
    "In the following, we do precisly this by first calculating $f(x)$, and then modifying the first, and last entries appropriately."
   ]
  },
  {
   "cell_type": "code",
   "execution_count": 88,
   "metadata": {
    "collapsed": true
   },
   "outputs": [],
   "source": [
    "g = f(x)\n",
    "g[0] = g[0]-alpha/dx**2                 # Modify the first entry to include the -alpha/dx^2 term\n",
    "g[-1] = g[-1]-beta/dx**2                # Modify the last entry to include the -alpha/dx^2 term"
   ]
  },
  {
   "cell_type": "markdown",
   "metadata": {},
   "source": [
    "Now we have put all of the ingredients to put together an equation of the form $$D_2 U = g$$  Once we invert the matrix $D_2$, we can solve for the U!  In python, we can use `linalg.solve(D2,g)` to solve this equation!"
   ]
  },
  {
   "cell_type": "code",
   "execution_count": 89,
   "metadata": {},
   "outputs": [],
   "source": [
    "U = linalg.solve(D2,g)"
   ]
  },
  {
   "cell_type": "markdown",
   "metadata": {},
   "source": [
    "Voila!  We have numerically solve the boundary value problem!  The vector `U` contains the approximate value of our solution at each of the interior $x$ values.  While we could list the values individually, it is perhaps most useful to plot the solution using the syntax below.  \n",
    "\n",
    "_Note: If we would like to include the boundary values, the we can use the `hstack` to place the boundary values at the appropriate locations in the array as seen in the first line of the following code block_"
   ]
  },
  {
   "cell_type": "code",
   "execution_count": 90,
   "metadata": {},
   "outputs": [
    {
     "data": {
      "image/png": "[encoded data removed]",
      "text/plain": [
       "<matplotlib.figure.Figure at 0x98d3588>"
      ]
     },
     "metadata": {},
     "output_type": "display_data"
    }
   ],
   "source": [
    "plot(hstack([a,x,b]),hstack([alpha,U,beta]),'.-')       #plot the solution with lines, and a dot at each data point (including boundary values)\n",
    "xlabel('$x$',fontsize=20)\n",
    "ylabel('$U(x)$',fontsize=20)\n",
    "title('Numerical Solution $U(x)$',fontsize=22)\n",
    "show()"
   ]
  },
  {
   "cell_type": "code",
   "execution_count": 19,
   "metadata": {},
   "outputs": [
    {
     "data": {
      "text/plain": [
       "0.28559933214452665"
      ]
     },
     "execution_count": 19,
     "metadata": {},
     "output_type": "execute_result"
    }
   ],
   "source": [
    "dx"
   ]
  },
  {
   "cell_type": "code",
   "execution_count": null,
   "metadata": {
    "collapsed": true
   },
   "outputs": [],
   "source": []
  }
 ],
 "metadata": {
  "anaconda-cloud": {},
  "kernelspec": {
   "display_name": "Python 3",
   "language": "python",
   "name": "python3"
  },
  "language_info": {
   "codemirror_mode": {
    "name": "ipython",
    "version": 3
   },
   "file_extension": ".py",
   "mimetype": "text/x-python",
   "name": "python",
   "nbconvert_exporter": "python",
   "pygments_lexer": "ipython3",
   "version": "3.6.3"
  },
  "toc": {
   "base_numbering": 1,
   "nav_menu": {},
   "number_sections": true,
   "sideBar": true,
   "skip_h1_title": false,
   "title_cell": "Table of Contents",
   "title_sidebar": "Contents",
   "toc_cell": true,
   "toc_position": {},
   "toc_section_display": true,
   "toc_window_display": false
  }
 },
 "nbformat": 4,
 "nbformat_minor": 1
}
